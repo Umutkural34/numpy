{
 "cells": [
  {
   "cell_type": "markdown",
   "id": "058b3776",
   "metadata": {},
   "source": [
    "# NUMPY KÜTÜPHANESİ ÖZELLİKLERİ"
   ]
  },
  {
   "cell_type": "markdown",
   "id": "395c5517",
   "metadata": {},
   "source": [
    "1-) Numpy bilimsel hesaplamaları hızlı bir şekilde yapmamızı sağlayan bir matematik kütüphanesidir.\n",
    "\n",
    "2-) Numpy dizileri python listelerine benzer fakat hız ve işlevsellik açısından python listelerinden daha kullanışlıdır.\n",
    "\n",
    "3-) Numpy dizileri homojen yapıda olmalıdır yani dizi içindeki tüm elemanlar aynı veri tipinden olmalıdır."
   ]
  },
  {
   "cell_type": "code",
   "execution_count": 1,
   "id": "a1177d8c",
   "metadata": {},
   "outputs": [],
   "source": [
    "# ilk olarak numpy kütüphanemizi dahil ediyoruz\n",
    "import numpy as np"
   ]
  },
  {
   "cell_type": "markdown",
   "id": "d451e396",
   "metadata": {},
   "source": [
    "### ARRAYLER"
   ]
  },
  {
   "cell_type": "code",
   "execution_count": 2,
   "id": "173293ba",
   "metadata": {},
   "outputs": [
    {
     "data": {
      "text/plain": [
       "array([1, 3, 7])"
      ]
     },
     "execution_count": 2,
     "metadata": {},
     "output_type": "execute_result"
    }
   ],
   "source": [
    "# numpy kütüphanesi aracılığıyla bir array oluşturabiliriz ...\n",
    "\n",
    "arr1 = np.array([1,3,7])\n",
    "arr1"
   ]
  },
  {
   "cell_type": "code",
   "execution_count": 3,
   "id": "67515630",
   "metadata": {},
   "outputs": [
    {
     "data": {
      "text/plain": [
       "array([ 2,  4,  7, 10])"
      ]
     },
     "execution_count": 3,
     "metadata": {},
     "output_type": "execute_result"
    }
   ],
   "source": [
    "# aynı zamanda listeyi direkt olarak koda aktarabiliriz ...\n",
    "\n",
    "list1 = [2,4,7,10] \n",
    "arr1 = np.array(list1)\n",
    "arr1"
   ]
  },
  {
   "cell_type": "code",
   "execution_count": 4,
   "id": "1405298f",
   "metadata": {},
   "outputs": [
    {
     "data": {
      "text/plain": [
       "array([3, 4, 6, 9])"
      ]
     },
     "execution_count": 4,
     "metadata": {},
     "output_type": "execute_result"
    }
   ],
   "source": [
    "# 1 boyutlu dizi oluşturuyoruz :\n",
    "\n",
    "arr1 = np.array([3,4,6,9])\n",
    "arr1"
   ]
  },
  {
   "cell_type": "code",
   "execution_count": 5,
   "id": "4f705b64",
   "metadata": {},
   "outputs": [
    {
     "data": {
      "text/plain": [
       "array([[11, 23, 35],\n",
       "       [14, 19, 24]])"
      ]
     },
     "execution_count": 5,
     "metadata": {},
     "output_type": "execute_result"
    }
   ],
   "source": [
    "# 2 boyutlu dizi oluşturuyoruz :\n",
    "\n",
    "arr2 = np.array([[11,23,35],[14,19,24]])\n",
    "arr2"
   ]
  },
  {
   "cell_type": "code",
   "execution_count": 6,
   "id": "dcf6cfac",
   "metadata": {},
   "outputs": [
    {
     "data": {
      "text/plain": [
       "array([[[10, 14, 17],\n",
       "        [20, 22, 24]],\n",
       "\n",
       "       [[18, 19, 22],\n",
       "        [42, 46, 48]]])"
      ]
     },
     "execution_count": 6,
     "metadata": {},
     "output_type": "execute_result"
    }
   ],
   "source": [
    "# 3 boyutlu dizi oluşturuyoruz :\n",
    "\n",
    "arr1 = np.array([[[10,14,17],[20,22,24]] , [[18,19,22] , [42,46,48]]])\n",
    "arr1"
   ]
  },
  {
   "cell_type": "code",
   "execution_count": 7,
   "id": "310ec0c4",
   "metadata": {},
   "outputs": [
    {
     "name": "stdout",
     "output_type": "stream",
     "text": [
      "1\n",
      "2\n",
      "3\n"
     ]
    }
   ],
   "source": [
    "# boyut sayısını ndim komutu ile kontrol edebiliriz ...\n",
    "\n",
    "arr1 = np.array([1,4])\n",
    "arr2 = np.array([[20,25] , [30,44]])\n",
    "arr3 = np.array([[[26,27,29],[36,45,55] , [71,77,78],[80,84,88]]])\n",
    "\n",
    "print(arr1.ndim)\n",
    "print(arr2.ndim)\n",
    "print(arr3.ndim)"
   ]
  },
  {
   "cell_type": "code",
   "execution_count": 8,
   "id": "7566cba1",
   "metadata": {},
   "outputs": [
    {
     "data": {
      "text/plain": [
       "array([[[[[[[ 6, 25, 29, 37, 44]]]]]]])"
      ]
     },
     "execution_count": 8,
     "metadata": {},
     "output_type": "execute_result"
    }
   ],
   "source": [
    "# boyut sayısını kendimiz belirleyebiliriz ...\n",
    "\n",
    "arr1 = np.array([6,25,29,37,44] , ndmin = 7)\n",
    "arr1"
   ]
  },
  {
   "cell_type": "code",
   "execution_count": 9,
   "id": "1237591c",
   "metadata": {},
   "outputs": [
    {
     "data": {
      "text/plain": [
       "21"
      ]
     },
     "execution_count": 9,
     "metadata": {},
     "output_type": "execute_result"
    }
   ],
   "source": [
    "# oluşturduğumuz arrayde 0.indekse ulaşmak istersek aşağıdaki kodu kullanabiliriz ...\n",
    "\n",
    "arr1 = np.array([21,36,47])\n",
    "arr1[0]"
   ]
  },
  {
   "cell_type": "code",
   "execution_count": 10,
   "id": "b5242c2b",
   "metadata": {},
   "outputs": [
    {
     "name": "stdout",
     "output_type": "stream",
     "text": [
      "66\n",
      "-82\n",
      "3564\n",
      "21\n"
     ]
    }
   ],
   "source": [
    "# dizinin elemanları arasında matematiksel işlemler kullanılabilir ...\n",
    "\n",
    "arr1 = np.array([44,5,22,36,87,99,105])\n",
    "\n",
    "result1 = arr1[0] + arr1[2]\n",
    "result2 = arr1[1] - arr1[4]\n",
    "result3 = arr1[3] * arr1[5]\n",
    "result4 = arr1[6] // arr1[1]\n",
    "\n",
    "print(result1)\n",
    "print(result2)\n",
    "print(result3)\n",
    "print(result4)"
   ]
  },
  {
   "cell_type": "code",
   "execution_count": 11,
   "id": "9d285f25",
   "metadata": {
    "scrolled": true
   },
   "outputs": [
    {
     "name": "stdout",
     "output_type": "stream",
     "text": [
      "33\n",
      "30\n",
      "288\n",
      "454\n"
     ]
    }
   ],
   "source": [
    "# 2 ve 3 boyutlu arraylerin elemanlarınada ulaşmak mümkündür ...\n",
    "\n",
    "arr1 = np.array([[28, 33], [30, 49]])\n",
    "arr2 = np.array([[[100, 277, 288], [365, 454, 506], [710, 787, 728], [820, 842, 887]]])\n",
    "\n",
    "result1 = arr1[0, 1]\n",
    "result2 = arr1[1, 0]\n",
    "result3 = arr2[0, 0, 2]\n",
    "result4 = arr2[0, 1, 1]  \n",
    "\n",
    "print(result1) \n",
    "print(result2)  \n",
    "print(result3)  \n",
    "print(result4)  "
   ]
  },
  {
   "cell_type": "code",
   "execution_count": 12,
   "id": "21674c76",
   "metadata": {},
   "outputs": [
    {
     "name": "stdout",
     "output_type": "stream",
     "text": [
      "[0 1 2 3 4 5 6 7 8 9]\n",
      "[ 4  8 12 16 20]\n",
      "[[ 1  2  3  4  5]\n",
      " [ 6  7  8  9 10]\n",
      " [11 12 13 14 15]\n",
      " [16 17 18 19 20]\n",
      " [21 22 23 24 25]\n",
      " [26 27 28 29 30]\n",
      " [31 32 33 34 35]\n",
      " [36 37 38 39 40]\n",
      " [41 42 43 44 45]\n",
      " [46 47 48 49 50]\n",
      " [51 52 53 54 55]]\n"
     ]
    }
   ],
   "source": [
    "# arange komutu ile arrayin uzunluğunu ayarlayabiliriz ...\n",
    "\n",
    "arr1 = np.arange(0,10) # 0 dan 10 a kadar (10 dahil değil) array oluşturur ...\n",
    "arr2 = np.arange(4,22,4) # 4 den 22 ye kadar 4 er 4 er artan array oluşturur ...\n",
    "arr3 = np.arange(1,56).reshape(11,5) # reshape komutu ile matrisin satır ve sütun sayısını ayarlayabiliriz ...\n",
    "\n",
    "print(arr1)\n",
    "print(arr2)\n",
    "print(arr3)\n",
    "\n",
    "# !! reshape komutunun içine yazdığımız ilk sayı satır ikinci sayı sütun sayısıdır ve bu iki sayının çarpımı mutlaka arrayin\n",
    "# eleman sayısına eşit olmalı"
   ]
  },
  {
   "cell_type": "code",
   "execution_count": 13,
   "id": "18ce8437",
   "metadata": {},
   "outputs": [
    {
     "name": "stdout",
     "output_type": "stream",
     "text": [
      "[0. 0. 0.]\n",
      "-------------\n",
      "[[0. 0. 0. 0. 0.]\n",
      " [0. 0. 0. 0. 0.]\n",
      " [0. 0. 0. 0. 0.]\n",
      " [0. 0. 0. 0. 0.]\n",
      " [0. 0. 0. 0. 0.]]\n",
      "-------------\n",
      "[1. 1. 1. 1. 1. 1.]\n",
      "-------------\n",
      "[[1. 1. 1. 1. 1. 1.]\n",
      " [1. 1. 1. 1. 1. 1.]\n",
      " [1. 1. 1. 1. 1. 1.]\n",
      " [1. 1. 1. 1. 1. 1.]\n",
      " [1. 1. 1. 1. 1. 1.]\n",
      " [1. 1. 1. 1. 1. 1.]\n",
      " [1. 1. 1. 1. 1. 1.]]\n"
     ]
    }
   ],
   "source": [
    "# zeros ve ones komutları ile 0 ve 1 lerden oluşan arrayler oluşturabiliriz ...\n",
    "\n",
    "arr1 = np.zeros(3) #3 tane 0 lardan oluşan array\n",
    "arr2 = np.zeros((5,5)) # 5x5 lik 0 lardan oluşan bir array\n",
    "arr3 = np.ones(6) #6 tane 1 lerdan oluşan array\n",
    "arr4 = np.ones((7,6)) # 7x6 lik 1 lerdan oluşan bir array\n",
    "\n",
    "print(arr1)\n",
    "print(\"-------------\")\n",
    "print(arr2)\n",
    "print(\"-------------\")\n",
    "print(arr3)\n",
    "print(\"-------------\")\n",
    "print(arr4)"
   ]
  },
  {
   "cell_type": "code",
   "execution_count": 14,
   "id": "5c9cc1e7",
   "metadata": {},
   "outputs": [
    {
     "name": "stdout",
     "output_type": "stream",
     "text": [
      "[ 6.   15.75 25.5  35.25 45.  ]\n",
      "[ 3.   6.5 10.  13.5 17.  20.5 24. ]\n"
     ]
    }
   ],
   "source": [
    "# linspace komutu ile birbirlerine eşit uzaklıkta istedğimiz kadar eleman oluşturabiliriz ... \n",
    "\n",
    "arr1 = np.linspace(6,45,5)\n",
    "arr2 = np.linspace(3,24,7)\n",
    "\n",
    "print(arr1)\n",
    "print(arr2)"
   ]
  },
  {
   "cell_type": "markdown",
   "id": "dcdae049",
   "metadata": {},
   "source": [
    "### RANDOM"
   ]
  },
  {
   "cell_type": "code",
   "execution_count": 15,
   "id": "d2824497",
   "metadata": {},
   "outputs": [
    {
     "data": {
      "text/plain": [
       "array([0.63134272, 0.92639223, 0.0671901 , 0.43711644, 0.49945394])"
      ]
     },
     "execution_count": 15,
     "metadata": {},
     "output_type": "execute_result"
    }
   ],
   "source": [
    "# rand komutu ile 0 ve 1 arasında istedğimiz kadar elemandan oluşan array oluşturabiliriz\n",
    "\n",
    "arr1 = np.random.rand(5)\n",
    "arr1"
   ]
  },
  {
   "cell_type": "code",
   "execution_count": 16,
   "id": "1c35041b",
   "metadata": {},
   "outputs": [
    {
     "data": {
      "text/plain": [
       "array([[ 0.98436249,  0.95817286,  0.61805631,  0.80160671, -0.11263518],\n",
       "       [-2.05176033, -0.0082639 , -0.88152804,  1.1035489 ,  0.76538571],\n",
       "       [-1.79265924,  0.8358534 ,  0.49064471, -2.00093313, -0.562699  ],\n",
       "       [ 0.4902026 ,  0.00537532, -0.31924763,  2.37056032, -1.73336085]])"
      ]
     },
     "execution_count": 16,
     "metadata": {},
     "output_type": "execute_result"
    }
   ],
   "source": [
    "# randn komutu ile normal dağılıma uygun array üretebiliriz ...\n",
    "\n",
    "arr1 = np.random.randn(4,5)\n",
    "arr1\n",
    "\n",
    "# randn komutu ile üretilen sayıların ortalaması 0 , standart sapması 1 dir ..."
   ]
  },
  {
   "cell_type": "code",
   "execution_count": 17,
   "id": "47af27e3",
   "metadata": {},
   "outputs": [
    {
     "data": {
      "text/plain": [
       "array([34, 37, 17, 39, 30])"
      ]
     },
     "execution_count": 17,
     "metadata": {},
     "output_type": "execute_result"
    }
   ],
   "source": [
    "# tam sayılar üretmek için randint komutu kullanılır \n",
    "\n",
    "arr1 = np.random.randint(10,90,5) # 10 ile 90 arası 5 sayı üretir ...\n",
    "arr1"
   ]
  },
  {
   "cell_type": "code",
   "execution_count": 18,
   "id": "721cfd26",
   "metadata": {},
   "outputs": [
    {
     "data": {
      "text/plain": [
       "array([53, 16, 38, 99,  9, 75, 75, 27])"
      ]
     },
     "execution_count": 18,
     "metadata": {},
     "output_type": "execute_result"
    }
   ],
   "source": [
    "# seed komutunun içine gönderilen parametre ile herkeste aynı olucak şekilde bir array oluşturulabilir ...\n",
    "\n",
    "np.random.seed(50) # kim seedin içindeki parametreyi 50 ayarlarsa aynı sonucu alıcak\n",
    "arr1 = np.random.randint(5,100,8)\n",
    "arr1"
   ]
  },
  {
   "cell_type": "code",
   "execution_count": 19,
   "id": "bfabfdc7",
   "metadata": {},
   "outputs": [
    {
     "name": "stdout",
     "output_type": "stream",
     "text": [
      "[[237 133 258  95 250]\n",
      " [ 71 367 452 462 163]\n",
      " [348  91 154 218 134]\n",
      " [404 299 287  49 341]\n",
      " [106 425 320   6 147]\n",
      " [130  79 414 105 419]\n",
      " [499  26  60 371 322]\n",
      " [460 480 323 130 266]\n",
      " [496 110 435   0  93]\n",
      " [221  94   0 139 414]]\n",
      "499\n",
      "0\n"
     ]
    }
   ],
   "source": [
    "# maksimum sayıyı görmek için max , minimum sayıyı görmek için min komutu kullanılır\n",
    "\n",
    "arr1 = np.random.randint(0,500,50).reshape(10,5)\n",
    "\n",
    "print(arr1)\n",
    "print(arr1.max())\n",
    "print(arr1.min())"
   ]
  },
  {
   "cell_type": "code",
   "execution_count": 20,
   "id": "4f2019e7",
   "metadata": {},
   "outputs": [
    {
     "name": "stdout",
     "output_type": "stream",
     "text": [
      "[154  71  51 156 152  91 174  62 199  36]\n",
      "8\n",
      "9\n"
     ]
    }
   ],
   "source": [
    "# argmax ve argmin komutları ile maksimum ve minimum değerlerin indeksini bulabiliriz ...\n",
    "\n",
    "arr1 = np.random.randint(0,300,10)\n",
    "\n",
    "print(arr1)\n",
    "print(arr1.argmax())\n",
    "print(arr1.argmin())"
   ]
  },
  {
   "cell_type": "markdown",
   "id": "a295a014",
   "metadata": {},
   "source": [
    "### MATEMATİKSEL İŞLEMLER"
   ]
  },
  {
   "cell_type": "code",
   "execution_count": 21,
   "id": "aed65e9e",
   "metadata": {},
   "outputs": [
    {
     "name": "stdout",
     "output_type": "stream",
     "text": [
      "[228 128 186  43 192 237 147]\n",
      "---------------\n",
      "[238 138 196  53 202 247 157]\n",
      "---------------\n",
      "[208 108 166  23 172 217 127]\n",
      "---------------\n",
      "[456 256 372  86 384 474 294]\n",
      "---------------\n",
      "[57.   32.   46.5  10.75 48.   59.25 36.75]\n"
     ]
    }
   ],
   "source": [
    "arr1 = np.random.randint(0,250,7)\n",
    "\n",
    "print(arr1)\n",
    "print(\"---------------\")\n",
    "print(arr1 + 10)\n",
    "print(\"---------------\")\n",
    "print(arr1 - 20)\n",
    "print(\"---------------\")\n",
    "print(arr1 * 2)\n",
    "print(\"---------------\")\n",
    "print(arr1 / 4)"
   ]
  },
  {
   "cell_type": "code",
   "execution_count": 22,
   "id": "f0eba88d",
   "metadata": {},
   "outputs": [],
   "source": [
    "# sum : toplam verir\n",
    "# mean : ortalama verir\n",
    "# std : standart sapmayı verir\n",
    "# var : varyansı verir (standart sapmanın karesi)\n",
    "# sin : sinüsü verir\n",
    "# cos : kosinüsü verir\n",
    "# log : logaritmayı verir"
   ]
  },
  {
   "cell_type": "code",
   "execution_count": 23,
   "id": "d62e0e9e",
   "metadata": {},
   "outputs": [
    {
     "name": "stdout",
     "output_type": "stream",
     "text": [
      "[314  45 211 385 189 265 285 308 427 101]\n",
      "---------------\n",
      "2530\n",
      "---------------\n",
      "253.0\n",
      "---------------\n",
      "113.06723663378354\n",
      "---------------\n",
      "12784.2\n",
      "---------------\n",
      "[-0.15859291  0.85090352 -0.49104785  0.98802697  0.48331795  0.89401017\n",
      "  0.77387159  0.12360304 -0.25379421  0.45202579]\n",
      "---------------\n",
      "[ 0.98734406  0.52532199 -0.8711326  -0.15428123  0.87544489  0.44804667\n",
      " -0.63334253  0.99233174  0.96725824  0.89200487]\n",
      "---------------\n",
      "[5.74939299 3.80666249 5.35185813 5.95324333 5.24174702 5.57972983\n",
      " 5.65248918 5.73009978 6.05678401 4.61512052]\n"
     ]
    }
   ],
   "source": [
    "arr1 = np.random.randint(0,500,10)\n",
    "\n",
    "print(arr1)\n",
    "print(\"---------------\")\n",
    "print(arr1.sum())\n",
    "print(\"---------------\")\n",
    "print(arr1.mean())\n",
    "print(\"---------------\")\n",
    "print(arr1.std())\n",
    "print(\"---------------\")\n",
    "print(arr1.var())\n",
    "print(\"---------------\")\n",
    "print(np.sin(arr1))\n",
    "print(\"---------------\")\n",
    "print(np.cos(arr1))\n",
    "print(\"---------------\")\n",
    "print(np.log(arr1))"
   ]
  },
  {
   "cell_type": "markdown",
   "id": "0b158a02",
   "metadata": {},
   "source": [
    "### İNDEX İŞLEMLERİ"
   ]
  },
  {
   "cell_type": "code",
   "execution_count": 24,
   "id": "5d733dde",
   "metadata": {},
   "outputs": [
    {
     "name": "stdout",
     "output_type": "stream",
     "text": [
      "[87 32 19 47 69 92  6 65 36 84]\n",
      "------\n",
      "[87 32 19 47 69 92  6 65 36 84]\n",
      "------\n",
      "[87 32 19 47 69]\n",
      "------\n",
      "[47 69 92  6 65 36 84]\n",
      "------\n",
      "[69 92  6 65]\n"
     ]
    }
   ],
   "source": [
    "arr1 = np.random.randint(0,100,10)\n",
    "\n",
    "print(arr1)\n",
    "print(\"------\")\n",
    "print(arr1[:]) # tüm değerler \n",
    "print(\"------\")\n",
    "print(arr1[:5]) # ilk değerden 5. indekse kadar olan tüm değerler\n",
    "print(\"------\")\n",
    "print(arr1[3:]) # 3.indeksten sonuncu indekse kadar olan tüm değerler\n",
    "print(\"------\")\n",
    "print(arr1[4:8]) # 4.indeksten 8.indekse kadar olan tüm değerler"
   ]
  },
  {
   "cell_type": "code",
   "execution_count": 25,
   "id": "1df27d93",
   "metadata": {},
   "outputs": [
    {
     "name": "stdout",
     "output_type": "stream",
     "text": [
      "[[18 26 33 20 24]\n",
      " [66 69 77 80 84]]\n",
      "--------\n",
      "[[18 26 33 20 24]]\n",
      "--------\n",
      "[[66 69 77 80 84]]\n",
      "---------\n",
      "[[26 33 20]\n",
      " [69 77 80]]\n"
     ]
    }
   ],
   "source": [
    "arr1 = np.array([[18,26,33,20,24] , [66,69,77,80,84]])\n",
    "\n",
    "print(arr1[:,:]) # tüm değerler\n",
    "print(\"--------\")\n",
    "print(arr1[0:1 , :]) # sadece ilk grubu yazdırır\n",
    "print(\"--------\")\n",
    "print(arr1[1:2 , :]) # sadece ikinci grubu yazdırır\n",
    "print(\"---------\")\n",
    "print(arr1[: , 1:4]) # iki grubuda 1.indeksten 4.indekse kadar yazdırır"
   ]
  },
  {
   "cell_type": "markdown",
   "id": "89bdfeea",
   "metadata": {},
   "source": [
    "### KOŞUL İFADELERİ"
   ]
  },
  {
   "cell_type": "code",
   "execution_count": 26,
   "id": "a49676f9",
   "metadata": {},
   "outputs": [
    {
     "name": "stdout",
     "output_type": "stream",
     "text": [
      "[36 44 53 78 86 43 96 37 30 62 44 43 35]\n",
      "---------\n",
      "[36 44  4 43 19 37 30 44 43 35]\n",
      "---------\n",
      "[36 44 78  4 86 96 30 62 44]\n"
     ]
    }
   ],
   "source": [
    "arr1 = np.random.randint(0,100,15)\n",
    "\n",
    "print(arr1[arr1 > 25]) # sadece 25 den büyük sayıları yazdırır\n",
    "print(\"---------\")\n",
    "print(arr1[arr1 < 50]) # sadece 50 den küçük sayıları yazdırır\n",
    "print(\"---------\")\n",
    "print(arr1[arr1 % 2 == 0]) # sadece çift sayıları yazdırır"
   ]
  },
  {
   "cell_type": "markdown",
   "id": "e4fd6194",
   "metadata": {},
   "source": [
    "### EKSTRA ÖZELLİKLER"
   ]
  },
  {
   "cell_type": "code",
   "execution_count": 27,
   "id": "a9ed1035",
   "metadata": {},
   "outputs": [
    {
     "name": "stdout",
     "output_type": "stream",
     "text": [
      "[27 50 58 28 31 15  5 52 55 56]\n",
      "-------\n",
      "[27 50 58 28 31 15  5 52 55 56]\n"
     ]
    }
   ],
   "source": [
    "# copy komutu ile bir arrayi kopyalayabiliriz ...\n",
    "\n",
    "arr1 = np.random.randint(0,100,10)\n",
    "arr2 = arr1.copy()\n",
    "\n",
    "print(arr1)\n",
    "print(\"-------\")\n",
    "print(arr2)"
   ]
  },
  {
   "cell_type": "code",
   "execution_count": 28,
   "id": "862b8db1",
   "metadata": {},
   "outputs": [
    {
     "name": "stdout",
     "output_type": "stream",
     "text": [
      "(array([1, 2, 5, 7], dtype=int64),)\n"
     ]
    }
   ],
   "source": [
    "# where komutu ile aradığımız değerin hangi indeks veya indekslerde olduğunu bulabiliriz ...\n",
    "\n",
    "arr1 = np.array([0,1,1,2,3,1,2,1])\n",
    "result = np.where(arr1 == 1)\n",
    "print(result)"
   ]
  },
  {
   "cell_type": "code",
   "execution_count": 29,
   "id": "f683aa74",
   "metadata": {},
   "outputs": [
    {
     "name": "stdout",
     "output_type": "stream",
     "text": [
      "[2 2 0 1 0 2 2 2 0 2 2 1 2 1 2 2 1 2 0 3 1 1 3 2 2 3 1 0 1 2 2 3 1 2 2 3 2\n",
      " 1 2 1 1 2 0 2 2 1 2 1 0 1 2 2 0 3 2 1 2 0 1 3 0 1 2 2 2 2 2 2 2 0 3 1 0 0\n",
      " 2 0 3 0 2 2 1 3 2 3 2 2 2 0 1 0 0 2 0 1 1 2 2 1 2 1]\n"
     ]
    }
   ],
   "source": [
    "# choice ile yazdığımız sayıların yüzdelik olarak dağılımızı belirleyebiliriz ...\n",
    "\n",
    "arr1 = np.random.choice([0,1,2,3] , p = [0.2 , 0.3 , 0.4 , 0.1] , size = (100))\n",
    "print(arr1)"
   ]
  },
  {
   "cell_type": "code",
   "execution_count": 30,
   "id": "cf1b93b2",
   "metadata": {},
   "outputs": [
    {
     "name": "stdout",
     "output_type": "stream",
     "text": [
      "[ 5  8  7  6  1  3 10  4  0  9  2]\n"
     ]
    }
   ],
   "source": [
    "# shuffle ile arraydeki elemanları karışık bir şekilde yazabiliriz\n",
    "\n",
    "arr1 = np.arange(11)\n",
    "np.random.shuffle(arr1)\n",
    "print(arr1)"
   ]
  },
  {
   "cell_type": "code",
   "execution_count": null,
   "id": "3d9045a7",
   "metadata": {},
   "outputs": [],
   "source": []
  }
 ],
 "metadata": {
  "kernelspec": {
   "display_name": "Python 3 (ipykernel)",
   "language": "python",
   "name": "python3"
  },
  "language_info": {
   "codemirror_mode": {
    "name": "ipython",
    "version": 3
   },
   "file_extension": ".py",
   "mimetype": "text/x-python",
   "name": "python",
   "nbconvert_exporter": "python",
   "pygments_lexer": "ipython3",
   "version": "3.9.7"
  }
 },
 "nbformat": 4,
 "nbformat_minor": 5
}
